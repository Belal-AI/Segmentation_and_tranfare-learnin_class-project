{
  "cells": [
    {
      "cell_type": "markdown",
      "metadata": {
        "id": "view-in-github",
        "colab_type": "text"
      },
      "source": [
        "<a href=\"https://colab.research.google.com/github/Belal-AI/Segmentation_and_tranfare-learnin_class-project/blob/main/digi.ipynb\" target=\"_parent\"><img src=\"https://colab.research.google.com/assets/colab-badge.svg\" alt=\"Open In Colab\"/></a>"
      ]
    },
    {
      "cell_type": "code",
      "execution_count": null,
      "id": "b7b9450d",
      "metadata": {
        "id": "b7b9450d"
      },
      "outputs": [],
      "source": [
        "import cv2 \n",
        "import matplotlib.pylab as plt\n",
        "import numpy as np"
      ]
    },
    {
      "cell_type": "code",
      "execution_count": null,
      "id": "253a240b",
      "metadata": {
        "id": "253a240b"
      },
      "outputs": [],
      "source": [
        "img=cv2.imread(r\"C:\\Users\\shara\\Desktop\\0003_0009.JPG\",0)\n"
      ]
    },
    {
      "cell_type": "code",
      "execution_count": null,
      "id": "dc1e90ff",
      "metadata": {
        "id": "dc1e90ff"
      },
      "outputs": [],
      "source": [
        "brightness = 40\n",
        "contrast = 50\n",
        "img = np.int16(img)\n",
        "img = img * (contrast/127+1) - contrast + brightness\n",
        "img = np.clip(img, 0, 255)\n",
        "img = np.uint8(img)\n",
        "cv2.imshow('img',img)\n",
        "cv2.waitKey(0)\n",
        "cv2.destroyAllWindows()"
      ]
    },
    {
      "cell_type": "code",
      "execution_count": null,
      "id": "53431555",
      "metadata": {
        "id": "53431555"
      },
      "outputs": [],
      "source": [
        "image2=cv2.medianBlur(img,7)\n",
        "cv2.imshow('median',image2)\n",
        "cv2.waitKey(0)\n",
        "cv2.destroyAllWindows()"
      ]
    },
    {
      "cell_type": "code",
      "execution_count": null,
      "id": "c24aa805",
      "metadata": {
        "id": "c24aa805",
        "outputId": "a763e965-6a8f-4fdd-853f-a72917731088"
      },
      "outputs": [
        {
          "data": {
            "image/png": "[encoded data removed]",
            "text/plain": [
              "<Figure size 432x288 with 1 Axes>"
            ]
          },
          "metadata": {
            "needs_background": "light"
          },
          "output_type": "display_data"
        }
      ],
      "source": [
        "(T, threshInv) = cv2.threshold(image2, 0, 255,cv2.THRESH_BINARY| cv2.THRESH_OTSU)\n",
        "plt.imshow(threshInv, cmap=\"gray\")\n",
        "plt.title('Thresold Binary')\n",
        "plt.show()"
      ]
    }
  ],
  "metadata": {
    "kernelspec": {
      "display_name": "Python 3 (ipykernel)",
      "language": "python",
      "name": "python3"
    },
    "language_info": {
      "codemirror_mode": {
        "name": "ipython",
        "version": 3
      },
      "file_extension": ".py",
      "mimetype": "text/x-python",
      "name": "python",
      "nbconvert_exporter": "python",
      "pygments_lexer": "ipython3",
      "version": "3.9.7"
    },
    "colab": {
      "name": "digi.ipynb",
      "provenance": [],
      "include_colab_link": true
    }
  },
  "nbformat": 4,
  "nbformat_minor": 5
}